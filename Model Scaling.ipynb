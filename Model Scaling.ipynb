{
 "cells": [
  {
   "cell_type": "code",
   "execution_count": 19,
   "id": "dab9b0e3-766e-485c-9cc9-62642ff1f27c",
   "metadata": {},
   "outputs": [],
   "source": [
    "import math\n",
    "import glm\n"
   ]
  },
  {
   "cell_type": "code",
   "execution_count": 51,
   "id": "7d64e758-2ad7-495c-bc32-4f5aad25c363",
   "metadata": {},
   "outputs": [],
   "source": [
    "def mapping_function_for_obj_file__(file_line, scaling_matrix):\n",
    "    if len(file_line) ==0 or file_line[0] !='v' or file_line[1] != ' ':\n",
    "        return file_line\n",
    "    x = float(file_line.split()[1])\n",
    "    y = float(file_line.split()[2])\n",
    "    z = float(file_line.split()[3])\n",
    "    vec = glm.vec3(x,y,z)\n",
    "    new_vec = scaling_matrix * vec\n",
    "    return f'v {new_vec.x} {new_vec.y} {new_vec.z}'"
   ]
  },
  {
   "cell_type": "code",
   "execution_count": 52,
   "id": "e699336c-d4a7-42d5-a312-988a961e0a92",
   "metadata": {},
   "outputs": [
    {
     "data": {
      "text/plain": [
       "'v 0.1233999952673912 0.45669999718666077 0.7123236060142517'"
      ]
     },
     "execution_count": 52,
     "metadata": {},
     "output_type": "execute_result"
    }
   ],
   "source": [
    "mapping_function_for_obj_file__(\"v 1.234 4.567 7.1232363\", glm.scale(glm.vec3(0.1, 0.1, 0.1)))"
   ]
  },
  {
   "cell_type": "code",
   "execution_count": null,
   "id": "4b54d188-0929-4781-bee3-7650d3d8851b",
   "metadata": {},
   "outputs": [],
   "source": [
    "def scale_an_obj_model(model_file):\n",
    "    model_file_lines = open(model_file, \"r\").read().split('\\n')\n",
    "    vertex_lines = list(filter(lambda x: len(x) >0 and x[0] == \"v\" and x[1] == \" \", model_file_lines))\n",
    "    max_length = 0\n",
    "    for vertex_line in vertex_lines:\n",
    "        x = float(vertex_line.split()[1])\n",
    "        y = float(vertex_line.split()[2])\n",
    "        z = float(vertex_line.split()[3])\n",
    "        current_length = (x**2 + y**2 + z**2)**0.5\n",
    "        if current_length > max_length:\n",
    "            max_length = current_length\n",
    "    scaling_matrix = glm.scale(glm.vec3(1.0/max_length, 1.0/max_length, 1.0/max_length))\n",
    "    parsed_model =list(\n",
    "            map(\n",
    "                lambda x: mapping_function_for_obj_file__(x, scaling_matrix), \n",
    "                model_file_lines\n",
    "                )\n",
    "        )\n",
    "    with open(model_file, 'w') as f:\n",
    "        for line in parsed_model:\n",
    "            f.write(f\"{line}\\n\")\n"
   ]
  },
  {
   "cell_type": "code",
   "execution_count": 66,
   "id": "d6ff99e4-4d4f-4238-9eac-19b1754fa141",
   "metadata": {},
   "outputs": [],
   "source": [
    "scale_an_obj_model(\"assets/Trees/Orange tree/model.obj\", \"assets/Trees/Orange tree/model.obj\")"
   ]
  }
 ],
 "metadata": {
  "kernelspec": {
   "display_name": "Python 3 (ipykernel)",
   "language": "python",
   "name": "python3"
  },
  "language_info": {
   "codemirror_mode": {
    "name": "ipython",
    "version": 3
   },
   "file_extension": ".py",
   "mimetype": "text/x-python",
   "name": "python",
   "nbconvert_exporter": "python",
   "pygments_lexer": "ipython3",
   "version": "3.11.5"
  }
 },
 "nbformat": 4,
 "nbformat_minor": 5
}
