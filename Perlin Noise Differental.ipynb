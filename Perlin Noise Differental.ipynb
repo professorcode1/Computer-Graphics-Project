{
 "cells": [
  {
   "cell_type": "markdown",
   "id": "71d7f8f5",
   "metadata": {},
   "source": [
    "I found the code for the perlin noise online, unfortunately its differential is not available, and I need it to calculate normals. The numerical differential formula starts glitching for large range. Now I am not emotinally stable enough to sit through having to calculate it by hand, so Imma just make a computation graph and use that instead."
   ]
  },
  {
   "cell_type": "code",
   "execution_count": 6,
   "id": "0f312725",
   "metadata": {},
   "outputs": [],
   "source": [
    "import jax\n",
    "from jax import numpy as jnp\n",
    "from jax import grad"
   ]
  },
  {
   "cell_type": "code",
   "execution_count": 7,
   "id": "dffadb6e",
   "metadata": {},
   "outputs": [],
   "source": [
    "hehe = jnp.array([1,2,3,4])"
   ]
  },
  {
   "cell_type": "code",
   "execution_count": 17,
   "id": "826ce466",
   "metadata": {},
   "outputs": [
    {
     "data": {
      "text/plain": [
       "DeviceArray(30, dtype=int32)"
      ]
     },
     "execution_count": 17,
     "metadata": {},
     "output_type": "execute_result"
    }
   ],
   "source": [
    "jnp.sum(hehe * hehe)"
   ]
  },
  {
   "cell_type": "code",
   "execution_count": 57,
   "id": "ff6b93dc",
   "metadata": {},
   "outputs": [],
   "source": [
    "    def fade(t): \n",
    "        return t*t*t*(t*(t*6.0-15.0)+10.0)\n",
    "    def permute(x):\n",
    "        return jnp.mod(((x*34.0)+1.0)*x, 289.0)\n",
    "    def dot(x,y):\n",
    "        return jnp.sum(x * y)\n",
    "\n",
    "    def cnoise(x,y):\n",
    "        Pf, Pi = jnp.modf(jnp.array([x,y,x,y]))\n",
    "        Pi += jnp.array([0.0, 0.0, 1.0, 1.0]) \n",
    "        Pf -= jnp.array([0.0, 0.0, 1.0, 1.0]) \n",
    "        Pi = jnp.mod(Pi , 289.0)  \n",
    "        ix = jnp.array([Pi[0],Pi[2],Pi[0],Pi[2]]) \n",
    "        iy = jnp.array([Pi[1], Pi[1], Pi[3], Pi[3]]) \n",
    "        fx = jnp.array([Pf[0], Pf[2], Pf[0], Pf[2]]) \n",
    "        fy = jnp.array([Pf[1], Pf[1], Pf[3], Pf[3]]) \n",
    "        i = permute(permute(ix) + iy) \n",
    "        gx = 2.0 * jnp.modf(i * 0.0243902439)[0] - 1.0\n",
    "        gy = abs(gx) - 0.5\n",
    "        tx = jnp.floor(gx + 0.5) \n",
    "        gx = gx - tx \n",
    "        g00 = jnp.array([gx[0],gy[0]]) \n",
    "        g10 = jnp.array([gx[1],gy[1]]) \n",
    "        g01 = jnp.array([gx[2],gy[2]]) \n",
    "        g11 = jnp.array([gx[3],gy[3]]) \n",
    "        norm = 1.79284291400159 - 0.85373472095314 * jnp.array([dot(g00, g00), dot(g01, g01), dot(g10, g10), dot(g11, g11)]) \n",
    "        g00 *= norm[0] \n",
    "        g01 *= norm[1] \n",
    "        g10 *= norm[2] \n",
    "        g11 *= norm[3] \n",
    "        n00 = dot(g00, jnp.array([fx[0], fy[0]])) \n",
    "        n10 = dot(g10, jnp.array([fx[1], fy[1]])) \n",
    "        n01 = dot(g01, jnp.array([fx[2], fy[2]])) \n",
    "        n11 = dot(g11, jnp.array([fx[3], fy[3]])) \n",
    "        fade_xy = fade(jnp.array([Pf[0], Pf[1]])) \n",
    "        n_x = jnp.array([n00, n01]) * (1 - fade_xy[0]) +  jnp.array([n10, n11]) * fade_xy[0] \n",
    "        n_xy = n_x[0] * (1 - fade_xy[1]) + n_x[1] * fade_xy[1] \n",
    "        return 2.3 * n_xy \n"
   ]
  },
  {
   "cell_type": "code",
   "execution_count": 58,
   "id": "034d4fa4",
   "metadata": {},
   "outputs": [
    {
     "name": "stdout",
     "output_type": "stream",
     "text": [
      "2 0 -0.06484855\n",
      "2 1 0.093980774\n",
      "2 2 0.20321386\n",
      "2 3 0.23280133\n",
      "2 4 0.17662016\n",
      "2 5 0.051779356\n",
      "2 6 -0.1059663\n",
      "2 7 -0.25069636\n",
      "2 8 -0.33869827\n",
      "2 9 -0.34473214\n"
     ]
    }
   ],
   "source": [
    "for i in range(3):\n",
    "    for j in range(0, 10):\n",
    "        print(i,j, cnoise(i/10,j/10))"
   ]
  }
 ],
 "metadata": {
  "kernelspec": {
   "display_name": "Python 3 (ipykernel)",
   "language": "python",
   "name": "python3"
  },
  "language_info": {
   "codemirror_mode": {
    "name": "ipython",
    "version": 3
   },
   "file_extension": ".py",
   "mimetype": "text/x-python",
   "name": "python",
   "nbconvert_exporter": "python",
   "pygments_lexer": "ipython3",
   "version": "3.9.12"
  }
 },
 "nbformat": 4,
 "nbformat_minor": 5
}
